{
 "cells": [
  {
   "cell_type": "markdown",
   "id": "560379d3",
   "metadata": {},
   "source": [
    "# Solving Linear Systems: 2 variables"
   ]
  },
  {
   "cell_type": "markdown",
   "id": "f77b4377",
   "metadata": {},
   "source": [
    "By completing this lab, you will be able to use basic programming skills with Python and `NumPy` package to solve systems of linear equations. In this notebook you will:\n",
    "\n",
    "- Use `NumPy` linear algebra package to find the solutions of the system of linear equations\n",
    "- Find the solution for the system of linear equations using elimination method\n",
    "- Evaluate the determinant of the matrix and examine the relationship between matrix singularity and number of solutions of the linear system"
   ]
  },
  {
   "cell_type": "markdown",
   "id": "39688a16",
   "metadata": {},
   "source": [
    "# Table of Contents\n",
    "\n",
    "- [ 1 - Representing and Solving System of Linear Equations using Matrices](#1)\n",
    "  - [ 1.1 - System of Linear Equations](#1.1)\n",
    "  - [ 1.2 - Solving Systems of Linear Equations using Matrices](#1.2)\n",
    "  - [ 1.3 - Evaluating Determinant of a Matrix](#1.3)\n",
    "- [ 2 - Solving System of Linear Equations using Elimination Method](#2)\n",
    "  - [ 2.1 - Elimination Method](#2.1)\n",
    "  - [ 2.2 - Preparation for the Implementation of Elimination Method in the Code](#2.2)\n",
    "  - [ 2.3 - Implementation of Elimination Method](#2.3)\n",
    "  - [ 2.4 - Graphical Representation of the Solution](#2.4)\n",
    "- [ 3 - System of Linear Equations with No Solutions](#3)\n",
    "- [ 4 - System of Linear Equations with Infinite Number of Solutions](#4)"
   ]
  },
  {
   "cell_type": "markdown",
   "id": "d6165c13",
   "metadata": {},
   "source": [
    "## Packages\n",
    "\n",
    "Load the `NumPy` package to access its functions."
   ]
  },
  {
   "cell_type": "code",
   "execution_count": 3,
   "id": "fa3dcf04",
   "metadata": {},
   "outputs": [],
   "source": [
    "import numpy as np"
   ]
  },
  {
   "cell_type": "markdown",
   "id": "3a5552bd",
   "metadata": {},
   "source": [
    "<a name='1'></a>\n",
    "## 1 - Representing and Solving System of Linear Equations using Matrices"
   ]
  },
  {
   "cell_type": "markdown",
   "id": "7de33135",
   "metadata": {},
   "source": [
    "<a name='1.1'></a>\n",
    "### 1.1 - System of Linear Equations\n",
    "\n",
    "A **system of linear equations** (or **linear system**) is a collection of one or more linear equations involving the same variables. For example:\n",
    "\n",
    "\n",
    "$$\\begin{cases} \n",
    "-x_1+3x_2=7, \\\\ 3x_1+2x_2=1, \\end{cases}\\tag{1}$$\n",
    "\n",
    "is a system of two equations with two unknown variables $x_1$, $x_2$. **To solve** a system of linear equations means to find such values of the variables $x_1$, $x_2$, that all of its equations are simultaneously satisfied.\n",
    "\n",
    "A linear system is **inconsistent** if it has no solution, and otherwise it is said to be **consistent**. Consistent system can have one or infinite number of solutions."
   ]
  },
  {
   "cell_type": "markdown",
   "id": "9b3741b6",
   "metadata": {},
   "source": [
    "<a name='1.2'></a>\n",
    "### 1.2 - Solving Systems of Linear Equations using Matrices\n",
    "\n",
    "Linear systems with two equations are easy to solve manually, but preparing for more complicated cases, you will investigate some solution techniques. \n",
    "\n",
    "`NumPy` linear algebra package provides quick and reliable way to solve the system of linear equations using function `np.linalg.solve(A, b)`. Here $A$ is a matrix, each row of which represents one equation in the system and each column corresponds to the variable $x_1$, $x_2$. And $b$ is a 1-D array of the free (right side) coefficients. More information about the `np.linalg.solve()` function can be found in [documentation](https://numpy.org/doc/stable/reference/generated/numpy.linalg.solve.html).\n",
    "\n",
    "Given the system of linear equations $(1)$, you can set matrix $A$ and 1-D array $b$ as:"
   ]
  },
  {
   "cell_type": "code",
   "execution_count": 4,
   "id": "e5758e1b",
   "metadata": {},
   "outputs": [
    {
     "name": "stdout",
     "output_type": "stream",
     "text": [
      "Matrix A:\n",
      "[[-1.  3.]\n",
      " [ 3.  2.]]\n",
      "\n",
      "Array b:\n",
      "[7. 1.]\n"
     ]
    }
   ],
   "source": [
    "A = np.array([\n",
    "        [-1, 3],\n",
    "        [3, 2]\n",
    "    ], dtype=np.dtype(float))\n",
    "\n",
    "b = np.array([7, 1], dtype=np.dtype(float))\n",
    "\n",
    "print(\"Matrix A:\")\n",
    "print(A)\n",
    "print(\"\\nArray b:\")\n",
    "print(b)"
   ]
  },
  {
   "cell_type": "markdown",
   "id": "cb8d9457",
   "metadata": {},
   "source": [
    "Check the dimensions of $A$ and $b$ using the `shape` attribute (you can also use `np.shape()` as an alternative):"
   ]
  },
  {
   "cell_type": "code",
   "execution_count": 5,
   "id": "ddc3b411",
   "metadata": {},
   "outputs": [
    {
     "name": "stdout",
     "output_type": "stream",
     "text": [
      "Shape of A: (2, 2)\n",
      "Shape of b: (2,)\n"
     ]
    }
   ],
   "source": [
    "print(f\"Shape of A: {A.shape}\")\n",
    "print(f\"Shape of b: {b.shape}\")\n",
    "\n",
    "# print(f\"Shape of A: {np.shape(A)}\")\n",
    "# print(f\"Shape of A: {np.shape(b)}\")"
   ]
  },
  {
   "cell_type": "markdown",
   "id": "ee2f505f",
   "metadata": {},
   "source": [
    "Now simply use `np.linalg.solve(A, b)` function to find the solution of the system $(1)$. The result will be saved in the 1-D array $x$. The elements will correspond to the values of $x_1$ and $x_2$:"
   ]
  },
  {
   "cell_type": "code",
   "execution_count": 6,
   "id": "5e87fd89",
   "metadata": {},
   "outputs": [
    {
     "name": "stdout",
     "output_type": "stream",
     "text": [
      "Solution: [-1.  2.]\n"
     ]
    }
   ],
   "source": [
    "x = np.linalg.solve(A, b)\n",
    "\n",
    "print(f\"Solution: {x}\")"
   ]
  },
  {
   "cell_type": "markdown",
   "id": "15e5933b",
   "metadata": {},
   "source": [
    "Try to substitute those values of $x_1$ and $x_2$ into the original system of equations to check its consistency."
   ]
  },
  {
   "cell_type": "markdown",
   "id": "0720e16c",
   "metadata": {},
   "source": [
    "<a name='1.3'></a>\n",
    "### 1.3 - Evaluating Determinant of a Matrix\n",
    "\n",
    "Matrix $A$ corresponding to the linear system $(1)$ is a **square matrix** - it has the same number of rows and columns. In case of a square matrix it is possible to calculate its determinant - a real number which characterizes some properties of the matrix. Linear system containing two (or more) equations with the same number of unknown variables will have one solution if and only if matrix $A$ has non-zero determinant.\n",
    "\n",
    "Let's calculate the determinant using `NumPy` linear algebra package. You can do it with the `np.linalg.det(A)` function. More information about it can be found in [documentation](https://numpy.org/doc/stable/reference/generated/numpy.linalg.det.html)."
   ]
  },
  {
   "cell_type": "code",
   "execution_count": 7,
   "id": "6cb492c2",
   "metadata": {},
   "outputs": [
    {
     "name": "stdout",
     "output_type": "stream",
     "text": [
      "Determinant of matrix A: -11.00\n"
     ]
    }
   ],
   "source": [
    "d = np.linalg.det(A)\n",
    "\n",
    "print(f\"Determinant of matrix A: {d:.2f}\")"
   ]
  },
  {
   "cell_type": "markdown",
   "id": "76d5e51f",
   "metadata": {},
   "source": [
    "Note that its value is non-zero, as expected for a system with exactly one solution."
   ]
  },
  {
   "cell_type": "markdown",
   "id": "a65131ec",
   "metadata": {},
   "source": [
    "<a name='2'></a>\n",
    "## 2 - Solving System of Linear Equations using Elimination Method"
   ]
  },
  {
   "cell_type": "markdown",
   "id": "9635230c",
   "metadata": {},
   "source": [
    "You can see how easy it is to use contemporary packages to solve linear equations. However, for deeper understanding of mathematical concepts, it is important to practice some solution techniques manually. Programming approach can still help here to reduce the amount of arithmetical calculations, and focus on the method itself."
   ]
  },
  {
   "cell_type": "markdown",
   "id": "8003bf67",
   "metadata": {},
   "source": [
    "<a name='2.1'></a>\n",
    "### 2.1 - Elimination Method"
   ]
  },
  {
   "cell_type": "markdown",
   "id": "bdcf88a7",
   "metadata": {},
   "source": [
    "In the **elimination method** you either add or subtract the equations of the linear system to get an equation with smaller number of variables. If needed, you can also multiply whole equation by non-zero number. \n",
    "\n",
    "Take a look at the system $(1)$ again:\n",
    "\n",
    "$$\\begin{cases} \n",
    "-x_1+3x_2=7, \\\\ 3x_1+2x_2=1, \\end{cases}$$\n",
    "\n",
    "Multiply first equation by 3, add it to the second equation and exchange the second equation with the result of this addition:\n",
    "\n",
    "$$\\begin{cases} \n",
    "-x_1+3x_2=7, \\\\ 11x_2=22. \\end{cases}\\tag{2}$$\n",
    "\n",
    "You eliminated variable $x_1$ from the second equation and brough it to the form where, dividing by $11$, you can see the solution value for $x_2$: $x_2=2$. Now take $x_2=2$ in the first equation:\n",
    "\n",
    "$$\\begin{cases} \n",
    "-x_1+3 \\times 2=7, \\\\ x_2=2, \\end{cases}\\tag{3}$$\n",
    "\n",
    "And find the solution:\n",
    "\n",
    "$$\\begin{cases} \n",
    "x_1=-1, \\\\ x_2=2. \\end{cases}\\tag{4}$$\n",
    "\n",
    "Check that it's the same one that you found in the section [1.2](#1.2)."
   ]
  },
  {
   "cell_type": "markdown",
   "id": "678e3bd9",
   "metadata": {},
   "source": [
    "<a name='2.2'></a>\n",
    "### 2.2 - Preparation for the Implementation of Elimination Method in the Code\n",
    "\n",
    "Representing the system in a matrix form as\n",
    "$\\begin{bmatrix}\n",
    "-1 & 3 & 7 \\\\\n",
    "3 & 2 & 1\n",
    "\\end{bmatrix},\n",
    "$\n",
    "you can apply the same operations to the rows of the matrix with Python code.\n",
    "\n",
    "Unify matrix $A$ and array $b$ into one matrix using `np.hstack()` function. Note that the shape of the originally defined array $b$ was $(2,)$, to stack it with the $(2, 2)$ matrix you need to use `.reshape((2, 1))` function:"
   ]
  },
  {
   "cell_type": "code",
   "execution_count": 8,
   "id": "ba69936f",
   "metadata": {},
   "outputs": [
    {
     "name": "stdout",
     "output_type": "stream",
     "text": [
      "[[-1.  3.  7.]\n",
      " [ 3.  2.  1.]]\n"
     ]
    }
   ],
   "source": [
    "A_system = np.hstack((A, b.reshape((2, 1))))\n",
    "\n",
    "print(A_system)"
   ]
  },
  {
   "cell_type": "markdown",
   "id": "b8d17bbc",
   "metadata": {},
   "source": [
    "Let's review how to extract a row of a matrix, which will help later to perform required operations with the rows. Remember, that indexing of arrays in Python starts from zero, so to extract second row of a matrix, you need to use the following code:"
   ]
  },
  {
   "cell_type": "code",
   "execution_count": 9,
   "id": "aac1370c",
   "metadata": {},
   "outputs": [
    {
     "name": "stdout",
     "output_type": "stream",
     "text": [
      "[3. 2. 1.]\n"
     ]
    }
   ],
   "source": [
    "print(A_system[1])"
   ]
  },
  {
   "cell_type": "markdown",
   "id": "c2d63c5a",
   "metadata": {},
   "source": [
    "<a name='2.3'></a>\n",
    "### 2.3 - Implementation of Elimination Method\n",
    "\n",
    "Let's apply some operations to the matrix $A\\_system$ to eliminate variable . First, copy the matrix to keep the original one without any changes. Then multiply first row by 3, add it to the second row and exchange the second row with the result of this addition:"
   ]
  },
  {
   "cell_type": "code",
   "execution_count": 10,
   "id": "0dfedbf5",
   "metadata": {},
   "outputs": [],
   "source": [
    "# Function .copy() is used to keep the original matrix without any changes.\n",
    "A_system_res = A_system.copy()"
   ]
  },
  {
   "cell_type": "code",
   "execution_count": 11,
   "id": "02024284",
   "metadata": {},
   "outputs": [
    {
     "name": "stdout",
     "output_type": "stream",
     "text": [
      "[[-1.  3.  7.]\n",
      " [ 0. 11. 22.]]\n"
     ]
    }
   ],
   "source": [
    "A_system_res[1] = 3 * A_system_res[0] + A_system_res[1]\n",
    "\n",
    "print(A_system_res)"
   ]
  },
  {
   "cell_type": "markdown",
   "id": "278ef920",
   "metadata": {},
   "source": [
    "Multipy second row by $1/11$:"
   ]
  },
  {
   "cell_type": "code",
   "execution_count": 12,
   "id": "3090a179",
   "metadata": {},
   "outputs": [
    {
     "name": "stdout",
     "output_type": "stream",
     "text": [
      "[[-1.  3.  7.]\n",
      " [ 0.  1.  2.]]\n"
     ]
    }
   ],
   "source": [
    "A_system_res[1] = 1/11 * A_system_res[1]\n",
    "\n",
    "print(A_system_res)"
   ]
  },
  {
   "cell_type": "markdown",
   "id": "add1e186",
   "metadata": {},
   "source": [
    "The original matrix `A_system` was constructed stacking horizontally matrix $A$ and array $b$. You can read the last row as $0x_1+1x_2 = 2$, thus $x_2 = 2$. And the first row as $-1x_1+3x_2=7$. Substitute $x_2=2$, you will get $x_1 = -1$."
   ]
  },
  {
   "cell_type": "markdown",
   "id": "4ac3d039",
   "metadata": {},
   "source": [
    "<a name='2.4'></a>\n",
    "### 2.4 - Graphical Representation of the Solution\n",
    "\n",
    "A linear equation in two variables (here, $x_1$ and $x_2$) is represented geometrically by a line which points $(x_1, x_2)$ make up the collection of solutions of the equation. This is called the **graph of the linear equation**. In case of the system of two equations there will be two lines corresponding to each of the equations, and the solution will be the intersection point of those lines.\n",
    "\n",
    "In the following code you will define a function `plot_lines()` to plot the lines and use it later to represent the solution which you found earlier. Do not worry if the code in the following cell will not be clear - at this stage this is not important code to understand."
   ]
  },
  {
   "cell_type": "code",
   "execution_count": 13,
   "id": "b8322d51",
   "metadata": {},
   "outputs": [],
   "source": [
    "import matplotlib.pyplot as plt\n",
    "\n",
    "def plot_lines(M):\n",
    "    x_1 = np.linspace(-10,10,100)\n",
    "    x_3 = y = np.sin(x_1)\n",
    "    \n",
    "    x_2_line_1 = (M[0,2] - M[0,0] * x_1) / M[0,1]\n",
    "    x_2_line_2 = (M[1,2] - M[1,0] * x_1) / M[1,1]\n",
    "    \n",
    "    _, ax = plt.subplots(figsize=(10, 10))\n",
    "    ax.plot(x_1, x_2_line_1, '-', linewidth=2, color='#007533',\n",
    "        label=f'$x_2={-M[0,0]/M[0,1]:.2f}x_1 + {M[0,2]/M[0,1]:.2f}$')\n",
    "    ax.plot(x_1, x_2_line_2, '-', linewidth=2, color='#ff7300',\n",
    "        label=f'$x_2={-M[1,0]/M[1,1]:.2f}x_1 + {M[1,2]/M[1,1]:.2f}$')\n",
    "    ax.plot ( x_1, x_3 ,  '-', linewidth=2, color='#007533',label=f'$x_3={\"4\"} $')\n",
    "\n",
    "    A = M[:, 0:-1]\n",
    "    b = M[:, -1::].flatten()\n",
    "    d = np.linalg.det(A)\n",
    "\n",
    "    if d != 0:\n",
    "        solution = np.linalg.solve(A,b) \n",
    "        ax.plot(solution[0], solution[1], '-o', mfc='none', \n",
    "            markersize=10, markeredgecolor='#ff0000', markeredgewidth=2)\n",
    "        ax.text(solution[0]-0.25, solution[1]+0.75, f'$(${solution[0]:.0f}$,{solution[1]:.0f})$', fontsize=14)\n",
    "    ax.tick_params(axis='x', labelsize=14)\n",
    "    ax.tick_params(axis='y', labelsize=14)\n",
    "    ax.set_xticks(np.arange(-10, 10))\n",
    "    ax.set_yticks(np.arange(-10, 10))\n",
    "\n",
    "    plt.xlabel('$x_1$', size=14)\n",
    "    plt.ylabel('$x_2$', size=14)\n",
    "    plt.legend(loc='upper right', fontsize=14)\n",
    "    plt.axis([-10, 10, -10, 10])\n",
    "\n",
    "    plt.grid()\n",
    "    plt.gca().set_aspect(\"equal\")\n",
    "\n",
    "    plt.show()"
   ]
  },
  {
   "cell_type": "code",
   "execution_count": 14,
   "id": "5e9ad8c1",
   "metadata": {},
   "outputs": [
    {
     "data": {
      "image/png": "[encoded data removed]",
      "text/plain": [
       "<Figure size 720x720 with 1 Axes>"
      ]
     },
     "metadata": {
      "needs_background": "light"
     },
     "output_type": "display_data"
    }
   ],
   "source": [
    "plot_lines(A_system)"
   ]
  },
  {
   "cell_type": "markdown",
   "id": "696ec734",
   "metadata": {},
   "source": [
    "<a name='3'></a>\n",
    "## 3 - System of Linear Equations with No Solutions\n",
    "\n",
    "Given another system of linear equations:\n",
    "\n",
    "$$\\begin{cases} \n",
    "-x_1+3x_2=7, \\\\ 3x_1-9x_2=1, \\end{cases}\\tag{5}$$\n",
    "\n",
    "let's find the determinant of the corresponding matrix."
   ]
  },
  {
   "cell_type": "code",
   "execution_count": 15,
   "id": "4780129a",
   "metadata": {},
   "outputs": [
    {
     "name": "stdout",
     "output_type": "stream",
     "text": [
      "Determinant of matrix A_2: 0.00\n"
     ]
    }
   ],
   "source": [
    "A_2 = np.array([\n",
    "        [-1, 3],\n",
    "        [3, -9]\n",
    "    ], dtype=np.dtype(float))\n",
    "\n",
    "b_2 = np.array([7, 1], dtype=np.dtype(float))\n",
    "\n",
    "d_2 = np.linalg.det(A_2)\n",
    "\n",
    "print(f\"Determinant of matrix A_2: {d_2:.2f}\")"
   ]
  },
  {
   "cell_type": "markdown",
   "id": "e60bd6f9",
   "metadata": {},
   "source": [
    "It is equal to zero, thus the system cannot have one unique solution. It will have either infinitely many solutions or none. The consistency of it will depend on the free coefficients (right side coefficients). You can run the code in the following cell to check that the `np.linalg.solve()` function will give an error due to singularity."
   ]
  },
  {
   "cell_type": "code",
   "execution_count": 28,
   "id": "14f088b4",
   "metadata": {},
   "outputs": [
    {
     "name": "stdout",
     "output_type": "stream",
     "text": [
      "Singular matrix\n"
     ]
    }
   ],
   "source": [
    "try:\n",
    "    x_2 = np.linalg.solve(A_2, b_2)\n",
    "except np.linalg.LinAlgError as err:\n",
    "    print(err)"
   ]
  },
  {
   "cell_type": "markdown",
   "id": "498c259c",
   "metadata": {},
   "source": [
    "Prepare to apply the elimination method, constructing the matrix, corresponding to this linear system:"
   ]
  },
  {
   "cell_type": "code",
   "execution_count": 17,
   "id": "86947dce",
   "metadata": {},
   "outputs": [
    {
     "name": "stdout",
     "output_type": "stream",
     "text": [
      "[[-1.  3.  7.]\n",
      " [ 3. -9.  1.]]\n"
     ]
    }
   ],
   "source": [
    "A_2_system = np.hstack((A_2, b_2.reshape((2, 1))))\n",
    "print(A_2_system)"
   ]
  },
  {
   "cell_type": "markdown",
   "id": "c3376fb2",
   "metadata": {},
   "source": [
    "Perform elimination:"
   ]
  },
  {
   "cell_type": "code",
   "execution_count": 18,
   "id": "ba69aa8b",
   "metadata": {},
   "outputs": [
    {
     "name": "stdout",
     "output_type": "stream",
     "text": [
      "[[-1.  3.  7.]\n",
      " [ 0.  0. 22.]]\n"
     ]
    }
   ],
   "source": [
    "# copy() matrix.\n",
    "A_2_system_res = A_2_system.copy()\n",
    "\n",
    "# Multiply row 0 by 3 and add it to the row 1.\n",
    "A_2_system_res[1] = 3 * A_2_system_res[0] + A_2_system_res[1]\n",
    "print(A_2_system_res)"
   ]
  },
  {
   "cell_type": "markdown",
   "id": "31248168",
   "metadata": {},
   "source": [
    "The last row will correspond to the equation $0=22$ which has no solution. Thus the whole linear system $(5)$ has no solutions. Let's see what will be on the graph. Do you expect the corresponding two lines to intersect?"
   ]
  },
  {
   "cell_type": "code",
   "execution_count": 19,
   "id": "3d204598",
   "metadata": {},
   "outputs": [
    {
     "data": {
      "image/png": "[encoded data removed]",
      "text/plain": [
       "<Figure size 720x720 with 1 Axes>"
      ]
     },
     "metadata": {
      "needs_background": "light"
     },
     "output_type": "display_data"
    }
   ],
   "source": [
    "plot_lines(A_2_system)"
   ]
  },
  {
   "cell_type": "markdown",
   "id": "6d4b7fb7",
   "metadata": {},
   "source": [
    "<a name='4'></a>\n",
    "## 4 - System of Linear Equations with Infinite Number of Solutions\n",
    "\n",
    "Changing free coefficients of the system $(5)$ you can bring it to consistency:\n",
    "\n",
    "$$\\begin{cases} \n",
    "-x_1+3x_2=7, \\\\ 3x_1-9x_2=-21, \\end{cases}\\tag{6}$$\n"
   ]
  },
  {
   "cell_type": "code",
   "execution_count": 25,
   "id": "517d4898",
   "metadata": {},
   "outputs": [],
   "source": [
    "b_3 = np.array([7, -21], dtype=np.dtype(float))"
   ]
  },
  {
   "cell_type": "markdown",
   "id": "ad9f41d9",
   "metadata": {},
   "source": [
    "Prepare the new matrix, corresponding to the system $(6)$:"
   ]
  },
  {
   "cell_type": "code",
   "execution_count": 26,
   "id": "8e03845c",
   "metadata": {},
   "outputs": [
    {
     "name": "stdout",
     "output_type": "stream",
     "text": [
      "[[ -1.   3.   7.]\n",
      " [  3.  -9. -21.]]\n"
     ]
    }
   ],
   "source": [
    "A_3_system = np.hstack((A_2, b_3.reshape((2, 1))))\n",
    "print(A_3_system)"
   ]
  },
  {
   "cell_type": "markdown",
   "id": "f7e952d4",
   "metadata": {},
   "source": [
    "Perform elimination using elementary operations:"
   ]
  },
  {
   "cell_type": "code",
   "execution_count": 27,
   "id": "32cdff76",
   "metadata": {},
   "outputs": [
    {
     "name": "stdout",
     "output_type": "stream",
     "text": [
      "[[-1.  3.  7.]\n",
      " [ 0.  0.  0.]]\n"
     ]
    }
   ],
   "source": [
    "# copy() matrix.\n",
    "A_3_system_res = A_3_system.copy()\n",
    "\n",
    "# Multiply row 0 by 3 and add it to the row 1.\n",
    "A_3_system_res[1] = 3 * A_3_system_res[0] + A_3_system_res[1]\n",
    "print(A_3_system_res)"
   ]
  },
  {
   "cell_type": "markdown",
   "id": "81b0fc6e",
   "metadata": {},
   "source": [
    "Thus from the corresponding linear system\n",
    "\n",
    "$$\\begin{cases} \n",
    "-x_1+3x_2=7, \\\\ 0=0, \\end{cases}\\tag{7}$$\n",
    "\n",
    "the solutions of the linear system $(6)$ are:\n",
    "\n",
    "$$x_1=3x_2-7, \\tag{8}$$\n",
    "\n",
    "where $x_2$ is any real number.\n",
    "\n",
    "If you plot the equations of the system, how many lines do you expect to see in the graph now? Check it, using the code below:"
   ]
  },
  {
   "cell_type": "code",
   "execution_count": 29,
   "id": "1c8c88c0",
   "metadata": {},
   "outputs": [
    {
     "data": {
      "image/png": "[encoded data removed]",
      "text/plain": [
       "<Figure size 720x720 with 1 Axes>"
      ]
     },
     "metadata": {
      "needs_background": "light"
     },
     "output_type": "display_data"
    }
   ],
   "source": [
    "plot_lines(A_3_system)"
   ]
  },
  {
   "cell_type": "code",
   "execution_count": null,
   "id": "f25e3564",
   "metadata": {},
   "outputs": [],
   "source": []
  },
  {
   "cell_type": "code",
   "execution_count": null,
   "id": "covered-integration",
   "metadata": {},
   "outputs": [],
   "source": []
  }
 ],
 "metadata": {
  "kernelspec": {
   "display_name": "Python 3",
   "language": "python",
   "name": "python3"
  },
  "language_info": {
   "codemirror_mode": {
    "name": "ipython",
    "version": 3
   },
   "file_extension": ".py",
   "mimetype": "text/x-python",
   "name": "python",
   "nbconvert_exporter": "python",
   "pygments_lexer": "ipython3",
   "version": "3.8.8"
  }
 },
 "nbformat": 4,
 "nbformat_minor": 5
}
